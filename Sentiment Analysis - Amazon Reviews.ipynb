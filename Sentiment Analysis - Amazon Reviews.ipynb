{
 "cells": [
  {
   "cell_type": "code",
   "execution_count": 3,
   "metadata": {},
   "outputs": [],
   "source": [
    "import pandas as pd\n",
    "\n",
    "import numpy as np\n",
    "\n",
    "from nltk.tokenize import word_tokenize\n",
    "\n",
    "from sklearn.model_selection import train_test_split\n",
    "\n",
    "import warnings\n",
    "\n",
    "warnings.filterwarnings('ignore')\n",
    "\n",
    "\n",
    "from sklearn import model_selection, naive_bayes, svm\n",
    "\n",
    "from sklearn.metrics import accuracy_score\n",
    "\n",
    "\n",
    "reviews_df = pd.read_csv('Amazon_Reviews.csv')\n",
    "\n",
    "y = reviews_df['Label']\n",
    "\n",
    "reviews_df.drop(columns = 'Label', axis = 1, inplace = True)"
   ]
  },
  {
   "cell_type": "markdown",
   "metadata": {},
   "source": [
    "# Data Preprocessing - removal of stopwords, tokenizing and stemming"
   ]
  },
  {
   "cell_type": "code",
   "execution_count": 5,
   "metadata": {},
   "outputs": [],
   "source": [
    "x_train,x_test,y_train,y_test = train_test_split(reviews_df,y,test_size=0.2,random_state = 30)\n",
    "\n",
    "#x_train"
   ]
  },
  {
   "cell_type": "code",
   "execution_count": 13,
   "metadata": {},
   "outputs": [
    {
     "data": {
      "text/plain": [
       "125    delici addict cereal great tast good crave wor...\n",
       "60     homer mose extrem help gem complex subject sec...\n",
       "90     instruct includ trust seller promis item compl...\n",
       "152    buyer bewar one cheesi compil find session ban...\n",
       "40     mind numb game make thing never hold son atten...\n",
       "                             ...                        \n",
       "140    found henri dog two henri dog one lost ride wa...\n",
       "45     fast mp3 download music wax decad ago one 26 s...\n",
       "173    worth invest great set block research differ b...\n",
       "165    block keep mind got see incrediblock fp catalo...\n",
       "37     great play larri work muse label late 80 earli...\n",
       "Name: Cleaned_Text, Length: 159, dtype: object"
      ]
     },
     "execution_count": 13,
     "metadata": {},
     "output_type": "execute_result"
    }
   ],
   "source": [
    "from nltk.corpus import stopwords\n",
    "\n",
    "from nltk.tokenize import RegexpTokenizer\n",
    "\n",
    "from nltk.stem import WordNetLemmatizer, PorterStemmer\n",
    "\n",
    "\n",
    "tokenizer = RegexpTokenizer(r'\\w+')  #All alphanumeric patterns are extracted\n",
    "\n",
    "lemmatizer = WordNetLemmatizer()\n",
    "\n",
    "stemmer = PorterStemmer()\n",
    "\n",
    "\n",
    "def preprocessing(review):\n",
    "    \n",
    "    #final_tokens = ' '\n",
    "    tokens = tokenizer.tokenize(review)\n",
    "    #print('Tokens:', tokens)\n",
    "    pure_tokens = [token.lower() for token in tokens if token.lower() not in stopwords.words('english')]\n",
    "    #print('Pure Tokens:', pure_tokens)\n",
    "    stemmed_tokens = [stemmer.stem(pure_token) for pure_token in pure_tokens]\n",
    "    #print('Stemmed Tokens:', stemmed_tokens)\n",
    "    final_tokens = ' '.join(stemmed_tokens)\n",
    "    \n",
    "    return final_tokens\n",
    "\n",
    "\n",
    "x_train['Cleaned_Text'] = x_train['Review'].apply(preprocessing)\n",
    "\n",
    "x_train['Cleaned_Text']\n",
    "    \n",
    "\n",
    "    "
   ]
  },
  {
   "cell_type": "markdown",
   "metadata": {},
   "source": [
    "# Generating the TfIdf Matrix"
   ]
  },
  {
   "cell_type": "code",
   "execution_count": 15,
   "metadata": {},
   "outputs": [],
   "source": [
    "from sklearn.feature_extraction.text import TfidfVectorizer\n",
    "\n",
    "vectorizer = TfidfVectorizer(stop_words='english', use_idf=True)\n",
    "\n",
    "vectorizer.fit(x_train['Cleaned_Text'])\n",
    "\n",
    "x_train_TfIdf = vectorizer.transform(x_train['Cleaned_Text'])\n",
    "\n",
    "x_test['Cleaned_Text'] = x_test['Review'].apply(preprocessing)\n",
    "\n",
    "x_test_TfIdf = vectorizer.transform(x_test['Cleaned_Text'])"
   ]
  },
  {
   "cell_type": "markdown",
   "metadata": {},
   "source": [
    "# Fitting the Model"
   ]
  },
  {
   "cell_type": "code",
   "execution_count": 22,
   "metadata": {},
   "outputs": [
    {
     "data": {
      "text/plain": [
       "0.7813333333333333"
      ]
     },
     "execution_count": 22,
     "metadata": {},
     "output_type": "execute_result"
    },
    {
     "data": {
      "image/png": "[encoded data removed]",
      "text/plain": [
       "<Figure size 432x288 with 1 Axes>"
      ]
     },
     "metadata": {
      "needs_background": "light"
     },
     "output_type": "display_data"
    }
   ],
   "source": [
    "from sklearn.naive_bayes import GaussianNB, MultinomialNB, BernoulliNB\n",
    "\n",
    "from sklearn.metrics import confusion_matrix,roc_auc_score,roc_curve\n",
    "\n",
    "import matplotlib.pyplot as plt\n",
    "\n",
    "\n",
    "clf = MultinomialNB().fit(x_train_TfIdf.toarray(),y_train)\n",
    "\n",
    "clf.score(x_train_TfIdf.toarray(),y_train)\n",
    "\n",
    "y_pred = clf.predict(x_test_TfIdf.toarray())\n",
    "\n",
    "confusion_matrix(y_test,y_pred)\n",
    "\n",
    "y_proba_pred = clf.predict_proba(x_test_TfIdf.toarray())[::,1]\n",
    "\n",
    "fpr,tpr,tresholds = roc_curve(y_test,y_proba_pred)\n",
    "\n",
    "plt.plot(fpr,tpr)\n",
    "\n",
    "roc_auc_score(y_test,y_proba_pred)"
   ]
  },
  {
   "cell_type": "code",
   "execution_count": 25,
   "metadata": {},
   "outputs": [
    {
     "data": {
      "text/plain": [
       "0.7893333333333333"
      ]
     },
     "execution_count": 25,
     "metadata": {},
     "output_type": "execute_result"
    },
    {
     "data": {
      "image/png": "[encoded data removed]",
      "text/plain": [
       "<Figure size 432x288 with 1 Axes>"
      ]
     },
     "metadata": {
      "needs_background": "light"
     },
     "output_type": "display_data"
    }
   ],
   "source": [
    "#Trying Logistic Regression\n",
    "\n",
    "from sklearn.linear_model import LogisticRegression\n",
    "\n",
    "logit = LogisticRegression()\n",
    "\n",
    "logit.fit(x_train_TfIdf,y_train)\n",
    "\n",
    "y_logit_pred = logit.predict(x_test_TfIdf)\n",
    "\n",
    "y_logit_proba = logit.predict_proba(x_test_TfIdf.toarray())[::,1]\n",
    "\n",
    "log_fpr,log_tpr,log_tresholds = roc_curve(y_test, y_logit_proba)\n",
    "\n",
    "plt.plot(log_fpr,log_tpr)\n",
    "\n",
    "roc_auc_score(y_test, y_logit_proba)"
   ]
  }
 ],
 "metadata": {
  "kernelspec": {
   "display_name": "Python 3",
   "language": "python",
   "name": "python3"
  },
  "language_info": {
   "codemirror_mode": {
    "name": "ipython",
    "version": 3
   },
   "file_extension": ".py",
   "mimetype": "text/x-python",
   "name": "python",
   "nbconvert_exporter": "python",
   "pygments_lexer": "ipython3",
   "version": "3.7.6"
  }
 },
 "nbformat": 4,
 "nbformat_minor": 4
}
